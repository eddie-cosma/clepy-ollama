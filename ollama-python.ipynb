{
 "cells": [
  {
   "cell_type": "markdown",
   "id": "25895ddc-7d80-49b1-83cf-3df48482a4c0",
   "metadata": {},
   "source": [
    "# Getting started"
   ]
  },
  {
   "cell_type": "markdown",
   "id": "c7565c84-dbc2-46e9-aea1-4579bc104813",
   "metadata": {},
   "source": [
    "## Make sure Ollama is running\n",
    "\n",
    "Go to [http://localhost:11434](http://localhost:11434) in your browser and make sure you get the response `Ollama is running`"
   ]
  },
  {
   "cell_type": "markdown",
   "id": "151d17bd-ca17-4e9e-9f0c-d45d8a7440c2",
   "metadata": {},
   "source": [
    "# Accessing the Ollama API with requests"
   ]
  },
  {
   "cell_type": "code",
   "execution_count": 39,
   "id": "c341e58d-b032-4e8d-818b-bea453438ce9",
   "metadata": {},
   "outputs": [],
   "source": [
    "import requests"
   ]
  },
  {
   "cell_type": "markdown",
   "id": "4d297576-e021-49db-85f0-354988d395be",
   "metadata": {},
   "source": [
    "Let's start by getting the version of ollama we're running."
   ]
  },
  {
   "cell_type": "code",
   "execution_count": 40,
   "id": "bc705130-e9a4-460e-b11c-a4d201b354df",
   "metadata": {},
   "outputs": [
    {
     "data": {
      "text/plain": [
       "'0.5.13'"
      ]
     },
     "execution_count": 40,
     "metadata": {},
     "output_type": "execute_result"
    }
   ],
   "source": [
    "api_version = requests.get('http://localhost:11434/api/version')\n",
    "api_version.json().get('version')"
   ]
  },
  {
   "cell_type": "markdown",
   "id": "8a0f2abf-2f34-4cb1-86d8-cf368e2d742b",
   "metadata": {},
   "source": [
    "That's cool. Let's try chatting with it:"
   ]
  },
  {
   "cell_type": "code",
   "execution_count": 41,
   "id": "e1adc22e-22f4-4e96-9a1f-35a8dc183e7b",
   "metadata": {},
   "outputs": [
    {
     "name": "stdout",
     "output_type": "stream",
     "text": [
      "The sky blue color is caused by the mixture of different wavelengths of light emitted by various minerals and chemicals in the Earth's atmosphere. The blue hue occurs due to absorption of blue-violet light by oxygen molecules, and then reflected light with green and yellow tones that are scattered from the atmosphere into the sky. This mixture gives rise to an almost perfect reflection that is visible for a distance of about 10-20 kilometers (6-12 miles) from Earth's surface. The blue color thus results from the interaction between different light wavelengths."
     ]
    }
   ],
   "source": [
    "import json\n",
    "\n",
    "data = {\n",
    "    'model': 'tinyllama',\n",
    "    'prompt': 'Why is the sky blue?'\n",
    "}\n",
    "response = requests.post('http://localhost:11434/api/generate', data=json.dumps(data))\n",
    "if response.status_code == 200:\n",
    "    for line in response.iter_lines():\n",
    "        if line:\n",
    "            response_data = json.loads(line)\n",
    "            print(response_data.get(\"response\", \"\"), end=\"\", flush=True)"
   ]
  },
  {
   "cell_type": "markdown",
   "id": "72466aa9-b437-44f5-b6f4-8473afa784ac",
   "metadata": {},
   "source": [
    "🤔 As you can see, things got a little bit complicated. Because the reponse from ollama is actually a list of JSON objects, we need to parse through them to get the actual text response from each object. This is what the raw response looks like:"
   ]
  },
  {
   "cell_type": "code",
   "execution_count": 42,
   "id": "4feaefa7-b922-4ea0-91b1-5acb53a1020a",
   "metadata": {
    "scrolled": true
   },
   "outputs": [
    {
     "data": {
      "text/plain": [
       "'{\"model\":\"tinyllama\",\"created_at\":\"2025-03-11T00:36:45.820377Z\",\"response\":\"The\",\"done\":false}\\n{\"model\":\"tinyllama\",\"created_at\":\"2025-03-11T00:36:45.838421Z\",\"response\":\" sky\",\"done\":false}\\n{\"model\":\"tinyllama\",\"created_at\":\"2025-03-11T00:36:45.857883Z\",\"response\":\" blue\",\"done\":false}\\n{\"model\":\"tinyllama\",\"created_at\":\"2025-03-11T00:36:45.876647Z\",\"response\":\" color\",\"done\":false}\\n{\"model\":\"tinyllama\",\"created_at\":\"2025-03-11T00:36:45.895445Z\",\"response\":\" is\",\"done\":false}\\n{\"model\":\"tinyllama\",\"created_at\":\"2025-03-11T00:36:45.914263Z\",\"response\":\" caused\",\"done\":false}\\n{\"model\":\"tinyllama\",\"created_at\":\"2025-03-11T00:36:45.934513Z\",\"response\":\" by\",\"done\":false}\\n{\"model\":\"tinyllama\",\"created_at\":\"2025-03-11T00:36:45.9531Z\",\"response\":\" the\",\"done\":false}\\n{\"model\":\"tinyllama\",\"created_at\":\"2025-03-11T00:36:45.972605Z\",\"response\":\" mixture\",\"done\":false}\\n{\"model\":\"tinyllama\",\"created_at\":\"2025-03-11T00:36:45.991552Z\",\"response\":\" of\",\"done\":false}\\n{\"model\":\"tinyllama\",\"created_at\":\"2025-03-11T00:36:46.010293Z\",\"response\":\" different\",\"done\":false}\\n{\"model\":\"tinyllama\",\"created_at\":\"2025-03-11T00:36:46.029133Z\",\"response\":\" w\",\"done\":false}\\n{\"model\":\"tinyllama\",\"created_at\":\"2025-03-11T00:36:46.048077Z\",\"response\":\"avel\",\"done\":false}\\n{\"model\":\"tinyllama\",\"created_at\":\"2025-03-11T00:36:46.066929Z\",\"response\":\"ength\",\"done\":false}\\n{\"model\":\"tinyllama\",\"created_at\":\"2025-03-11T00:36:46.085637Z\",\"response\":\"s\",\"done\":false}\\n{\"model\":\"tinyllama\",\"created_at\":\"2025-03-11T00:36:46.104918Z\",\"response\":\" of\",\"done\":false}\\n{\"model\":\"tinyllama\",\"created_at\":\"2025-03-11T00:36:46.124063Z\",\"response\":\" light\",\"done\":false}\\n{\"model\":\"tinyllama\",\"created_at\":\"2025-03-11T00:36:46.143321Z\",\"response\":\" em\",\"done\":false}\\n{\"model\":\"tinyllama\",\"created_at\":\"2025-03-11T00:36:46.162987Z\",\"response\":\"itted\",\"done\":false}\\n{\"model\":\"tinyllama\",\"created_at\":\"2025-03-11T00:36:46.184841Z\",\"response\":\" by\",\"done\":false}\\n{\"model\":\"tinyllama\",\"created_at\":\"2025-03-11T00:36:46.20755Z\",\"response\":\" various\",\"done\":false}\\n{\"model\":\"tinyllama\",\"created_at\":\"2025-03-11T00:36:46.230346Z\",\"response\":\" min\",\"done\":false}\\n{\"model\":\"tinyllama\",\"created_at\":\"2025-03-11T00:36:46.254212Z\",\"response\":\"er\",\"done\":false}\\n{\"model\":\"tinyllama\",\"created_at\":\"2025-03-11T00:36:46.278097Z\",\"response\":\"als\",\"done\":false}\\n{\"model\":\"tinyllama\",\"created_at\":\"2025-03-11T00:36:46.301143Z\",\"response\":\" and\",\"done\":false}\\n{\"model\":\"tinyllama\",\"created_at\":\"2025-03-11T00:36:46.324495Z\",\"response\":\" chemical\",\"done\":false}\\n{\"model\":\"tinyllama\",\"created_at\":\"2025-03-11T00:36:46.346309Z\",\"response\":\"s\",\"done\":false}\\n{\"model\":\"tinyllama\",\"created_at\":\"2025-03-11T00:36:46.368582Z\",\"response\":\" in\",\"done\":false}\\n{\"model\":\"tinyllama\",\"created_at\":\"2025-03-11T00:36:46.392108Z\",\"response\":\" the\",\"done\":false}\\n{\"model\":\"tinyllama\",\"created_at\":\"2025-03-11T00:36:46.415807Z\",\"response\":\" Earth\",\"done\":false}\\n{\"model\":\"tinyllama\",\"created_at\":\"2025-03-11T00:36:46.437358Z\",\"response\":\"\\'\",\"done\":false}\\n{\"model\":\"tinyllama\",\"created_at\":\"2025-03-11T00:36:46.461723Z\",\"response\":\"s\",\"done\":false}\\n{\"model\":\"tinyllama\",\"created_at\":\"2025-03-11T00:36:46.485844Z\",\"response\":\" atmosphere\",\"done\":false}\\n{\"model\":\"tinyllama\",\"created_at\":\"2025-03-11T00:36:46.511234Z\",\"response\":\".\",\"done\":false}\\n{\"model\":\"tinyllama\",\"created_at\":\"2025-03-11T00:36:46.53451Z\",\"response\":\" The\",\"done\":false}\\n{\"model\":\"tinyllama\",\"created_at\":\"2025-03-11T00:36:46.558169Z\",\"response\":\" blue\",\"done\":false}\\n{\"model\":\"tinyllama\",\"created_at\":\"2025-03-11T00:36:46.582309Z\",\"response\":\" h\",\"done\":false}\\n{\"model\":\"tinyllama\",\"created_at\":\"2025-03-11T00:36:46.606585Z\",\"response\":\"ue\",\"done\":false}\\n{\"model\":\"tinyllama\",\"created_at\":\"2025-03-11T00:36:46.630406Z\",\"response\":\" occurs\",\"done\":false}\\n{\"model\":\"tinyllama\",\"created_at\":\"2025-03-11T00:36:46.654077Z\",\"response\":\" due\",\"done\":false}\\n{\"model\":\"tinyllama\",\"created_at\":\"2025-03-11T00:36:46.676898Z\",\"response\":\" to\",\"done\":false}\\n{\"model\":\"tinyllama\",\"created_at\":\"2025-03-11T00:36:46.699057Z\",\"response\":\" absor\",\"done\":false}\\n{\"model\":\"tinyllama\",\"created_at\":\"2025-03-11T00:36:46.722921Z\",\"response\":\"ption\",\"done\":false}\\n{\"model\":\"tinyllama\",\"created_at\":\"2025-03-11T00:36:46.745853Z\",\"response\":\" of\",\"done\":false}\\n{\"model\":\"tinyllama\",\"created_at\":\"2025-03-11T00:36:46.769756Z\",\"response\":\" blue\",\"done\":false}\\n{\"model\":\"tinyllama\",\"created_at\":\"2025-03-11T00:36:46.793394Z\",\"response\":\"-\",\"done\":false}\\n{\"model\":\"tinyllama\",\"created_at\":\"2025-03-11T00:36:46.815588Z\",\"response\":\"v\",\"done\":false}\\n{\"model\":\"tinyllama\",\"created_at\":\"2025-03-11T00:36:46.83884Z\",\"response\":\"io\",\"done\":false}\\n{\"model\":\"tinyllama\",\"created_at\":\"2025-03-11T00:36:46.861456Z\",\"response\":\"let\",\"done\":false}\\n{\"model\":\"tinyllama\",\"created_at\":\"2025-03-11T00:36:46.887378Z\",\"response\":\" light\",\"done\":false}\\n{\"model\":\"tinyllama\",\"created_at\":\"2025-03-11T00:36:46.912538Z\",\"response\":\" by\",\"done\":false}\\n{\"model\":\"tinyllama\",\"created_at\":\"2025-03-11T00:36:46.935065Z\",\"response\":\" o\",\"done\":false}\\n{\"model\":\"tinyllama\",\"created_at\":\"2025-03-11T00:36:46.959724Z\",\"response\":\"xygen\",\"done\":false}\\n{\"model\":\"tinyllama\",\"created_at\":\"2025-03-11T00:36:46.985132Z\",\"response\":\" mole\",\"done\":false}\\n{\"model\":\"tinyllama\",\"created_at\":\"2025-03-11T00:36:47.009099Z\",\"response\":\"cules\",\"done\":false}\\n{\"model\":\"tinyllama\",\"created_at\":\"2025-03-11T00:36:47.03134Z\",\"response\":\",\",\"done\":false}\\n{\"model\":\"tinyllama\",\"created_at\":\"2025-03-11T00:36:47.055068Z\",\"response\":\" and\",\"done\":false}\\n{\"model\":\"tinyllama\",\"created_at\":\"2025-03-11T00:36:47.077114Z\",\"response\":\" then\",\"done\":false}\\n{\"model\":\"tinyllama\",\"created_at\":\"2025-03-11T00:36:47.098947Z\",\"response\":\" reflected\",\"done\":false}\\n{\"model\":\"tinyllama\",\"created_at\":\"2025-03-11T00:36:47.122049Z\",\"response\":\" light\",\"done\":false}\\n{\"model\":\"tinyllama\",\"created_at\":\"2025-03-11T00:36:47.148917Z\",\"response\":\" with\",\"done\":false}\\n{\"model\":\"tinyllama\",\"created_at\":\"2025-03-11T00:36:47.179669Z\",\"response\":\" green\",\"done\":false}\\n{\"model\":\"tinyllama\",\"created_at\":\"2025-03-11T00:36:47.207413Z\",\"response\":\" and\",\"done\":false}\\n{\"model\":\"tinyllama\",\"created_at\":\"2025-03-11T00:36:47.233687Z\",\"response\":\" yellow\",\"done\":false}\\n{\"model\":\"tinyllama\",\"created_at\":\"2025-03-11T00:36:47.26127Z\",\"response\":\" t\",\"done\":false}\\n{\"model\":\"tinyllama\",\"created_at\":\"2025-03-11T00:36:47.28824Z\",\"response\":\"ones\",\"done\":false}\\n{\"model\":\"tinyllama\",\"created_at\":\"2025-03-11T00:36:47.311645Z\",\"response\":\" that\",\"done\":false}\\n{\"model\":\"tinyllama\",\"created_at\":\"2025-03-11T00:36:47.334014Z\",\"response\":\" are\",\"done\":false}\\n{\"model\":\"tinyllama\",\"created_at\":\"2025-03-11T00:36:47.358288Z\",\"response\":\" scattered\",\"done\":false}\\n{\"model\":\"tinyllama\",\"created_at\":\"2025-03-11T00:36:47.381221Z\",\"response\":\" from\",\"done\":false}\\n{\"model\":\"tinyllama\",\"created_at\":\"2025-03-11T00:36:47.403338Z\",\"response\":\" the\",\"done\":false}\\n{\"model\":\"tinyllama\",\"created_at\":\"2025-03-11T00:36:47.427209Z\",\"response\":\" atmosphere\",\"done\":false}\\n{\"model\":\"tinyllama\",\"created_at\":\"2025-03-11T00:36:47.454655Z\",\"response\":\" into\",\"done\":false}\\n{\"model\":\"tinyllama\",\"created_at\":\"2025-03-11T00:36:47.477719Z\",\"response\":\" the\",\"done\":false}\\n{\"model\":\"tinyllama\",\"created_at\":\"2025-03-11T00:36:47.502779Z\",\"response\":\" sky\",\"done\":false}\\n{\"model\":\"tinyllama\",\"created_at\":\"2025-03-11T00:36:47.525439Z\",\"response\":\".\",\"done\":false}\\n{\"model\":\"tinyllama\",\"created_at\":\"2025-03-11T00:36:47.551865Z\",\"response\":\" This\",\"done\":false}\\n{\"model\":\"tinyllama\",\"created_at\":\"2025-03-11T00:36:47.576571Z\",\"response\":\" mixture\",\"done\":false}\\n{\"model\":\"tinyllama\",\"created_at\":\"2025-03-11T00:36:47.60054Z\",\"response\":\" gives\",\"done\":false}\\n{\"model\":\"tinyllama\",\"created_at\":\"2025-03-11T00:36:47.623954Z\",\"response\":\" rise\",\"done\":false}\\n{\"model\":\"tinyllama\",\"created_at\":\"2025-03-11T00:36:47.647748Z\",\"response\":\" to\",\"done\":false}\\n{\"model\":\"tinyllama\",\"created_at\":\"2025-03-11T00:36:47.672033Z\",\"response\":\" an\",\"done\":false}\\n{\"model\":\"tinyllama\",\"created_at\":\"2025-03-11T00:36:47.696243Z\",\"response\":\" almost\",\"done\":false}\\n{\"model\":\"tinyllama\",\"created_at\":\"2025-03-11T00:36:47.723177Z\",\"response\":\" perfect\",\"done\":false}\\n{\"model\":\"tinyllama\",\"created_at\":\"2025-03-11T00:36:47.750635Z\",\"response\":\" reflection\",\"done\":false}\\n{\"model\":\"tinyllama\",\"created_at\":\"2025-03-11T00:36:47.778785Z\",\"response\":\" that\",\"done\":false}\\n{\"model\":\"tinyllama\",\"created_at\":\"2025-03-11T00:36:47.806359Z\",\"response\":\" is\",\"done\":false}\\n{\"model\":\"tinyllama\",\"created_at\":\"2025-03-11T00:36:47.832679Z\",\"response\":\" visible\",\"done\":false}\\n{\"model\":\"tinyllama\",\"created_at\":\"2025-03-11T00:36:47.857545Z\",\"response\":\" for\",\"done\":false}\\n{\"model\":\"tinyllama\",\"created_at\":\"2025-03-11T00:36:47.883855Z\",\"response\":\" a\",\"done\":false}\\n{\"model\":\"tinyllama\",\"created_at\":\"2025-03-11T00:36:47.911596Z\",\"response\":\" distance\",\"done\":false}\\n{\"model\":\"tinyllama\",\"created_at\":\"2025-03-11T00:36:47.938098Z\",\"response\":\" of\",\"done\":false}\\n{\"model\":\"tinyllama\",\"created_at\":\"2025-03-11T00:36:47.962503Z\",\"response\":\" about\",\"done\":false}\\n{\"model\":\"tinyllama\",\"created_at\":\"2025-03-11T00:36:47.986565Z\",\"response\":\" \",\"done\":false}\\n{\"model\":\"tinyllama\",\"created_at\":\"2025-03-11T00:36:48.011015Z\",\"response\":\"1\",\"done\":false}\\n{\"model\":\"tinyllama\",\"created_at\":\"2025-03-11T00:36:48.033904Z\",\"response\":\"0\",\"done\":false}\\n{\"model\":\"tinyllama\",\"created_at\":\"2025-03-11T00:36:48.057077Z\",\"response\":\"-\",\"done\":false}\\n{\"model\":\"tinyllama\",\"created_at\":\"2025-03-11T00:36:48.081132Z\",\"response\":\"2\",\"done\":false}\\n{\"model\":\"tinyllama\",\"created_at\":\"2025-03-11T00:36:48.103701Z\",\"response\":\"0\",\"done\":false}\\n{\"model\":\"tinyllama\",\"created_at\":\"2025-03-11T00:36:48.127616Z\",\"response\":\" kilom\",\"done\":false}\\n{\"model\":\"tinyllama\",\"created_at\":\"2025-03-11T00:36:48.1511Z\",\"response\":\"eters\",\"done\":false}\\n{\"model\":\"tinyllama\",\"created_at\":\"2025-03-11T00:36:48.173368Z\",\"response\":\" (\",\"done\":false}\\n{\"model\":\"tinyllama\",\"created_at\":\"2025-03-11T00:36:48.19705Z\",\"response\":\"6\",\"done\":false}\\n{\"model\":\"tinyllama\",\"created_at\":\"2025-03-11T00:36:48.219551Z\",\"response\":\"-\",\"done\":false}\\n{\"model\":\"tinyllama\",\"created_at\":\"2025-03-11T00:36:48.242708Z\",\"response\":\"1\",\"done\":false}\\n{\"model\":\"tinyllama\",\"created_at\":\"2025-03-11T00:36:48.265214Z\",\"response\":\"2\",\"done\":false}\\n{\"model\":\"tinyllama\",\"created_at\":\"2025-03-11T00:36:48.28756Z\",\"response\":\" miles\",\"done\":false}\\n{\"model\":\"tinyllama\",\"created_at\":\"2025-03-11T00:36:48.313118Z\",\"response\":\")\",\"done\":false}\\n{\"model\":\"tinyllama\",\"created_at\":\"2025-03-11T00:36:48.335878Z\",\"response\":\" from\",\"done\":false}\\n{\"model\":\"tinyllama\",\"created_at\":\"2025-03-11T00:36:48.358749Z\",\"response\":\" Earth\",\"done\":false}\\n{\"model\":\"tinyllama\",\"created_at\":\"2025-03-11T00:36:48.381741Z\",\"response\":\"\\'\",\"done\":false}\\n{\"model\":\"tinyllama\",\"created_at\":\"2025-03-11T00:36:48.404368Z\",\"response\":\"s\",\"done\":false}\\n{\"model\":\"tinyllama\",\"created_at\":\"2025-03-11T00:36:48.428076Z\",\"response\":\" surface\",\"done\":false}\\n{\"model\":\"tinyllama\",\"created_at\":\"2025-03-11T00:36:48.450209Z\",\"response\":\".\",\"done\":false}\\n{\"model\":\"tinyllama\",\"created_at\":\"2025-03-11T00:36:48.473995Z\",\"response\":\" The\",\"done\":false}\\n{\"model\":\"tinyllama\",\"created_at\":\"2025-03-11T00:36:48.497194Z\",\"response\":\" blue\",\"done\":false}\\n{\"model\":\"tinyllama\",\"created_at\":\"2025-03-11T00:36:48.519531Z\",\"response\":\" color\",\"done\":false}\\n{\"model\":\"tinyllama\",\"created_at\":\"2025-03-11T00:36:48.542534Z\",\"response\":\" thus\",\"done\":false}\\n{\"model\":\"tinyllama\",\"created_at\":\"2025-03-11T00:36:48.564395Z\",\"response\":\" results\",\"done\":false}\\n{\"model\":\"tinyllama\",\"created_at\":\"2025-03-11T00:36:48.586592Z\",\"response\":\" from\",\"done\":false}\\n{\"model\":\"tinyllama\",\"created_at\":\"2025-03-11T00:36:48.609278Z\",\"response\":\" the\",\"done\":false}\\n{\"model\":\"tinyllama\",\"created_at\":\"2025-03-11T00:36:48.630475Z\",\"response\":\" interaction\",\"done\":false}\\n{\"model\":\"tinyllama\",\"created_at\":\"2025-03-11T00:36:48.65199Z\",\"response\":\" between\",\"done\":false}\\n{\"model\":\"tinyllama\",\"created_at\":\"2025-03-11T00:36:48.675191Z\",\"response\":\" different\",\"done\":false}\\n{\"model\":\"tinyllama\",\"created_at\":\"2025-03-11T00:36:48.698523Z\",\"response\":\" light\",\"done\":false}\\n{\"model\":\"tinyllama\",\"created_at\":\"2025-03-11T00:36:48.720708Z\",\"response\":\" w\",\"done\":false}\\n{\"model\":\"tinyllama\",\"created_at\":\"2025-03-11T00:36:48.744581Z\",\"response\":\"avel\",\"done\":false}\\n{\"model\":\"tinyllama\",\"created_at\":\"2025-03-11T00:36:48.769576Z\",\"response\":\"ength\",\"done\":false}\\n{\"model\":\"tinyllama\",\"created_at\":\"2025-03-11T00:36:48.796088Z\",\"response\":\"s\",\"done\":false}\\n{\"model\":\"tinyllama\",\"created_at\":\"2025-03-11T00:36:48.821536Z\",\"response\":\".\",\"done\":false}\\n{\"model\":\"tinyllama\",\"created_at\":\"2025-03-11T00:36:48.84704Z\",\"response\":\"\",\"done\":true,\"done_reason\":\"stop\",\"context\":[529,29989,5205,29989,29958,13,3492,526,263,8444,319,29902,20255,29889,2,29871,13,29966,29989,1792,29989,29958,13,11008,338,278,14744,7254,29973,2,29871,13,29966,29989,465,22137,29989,29958,13,1576,14744,7254,2927,338,8581,491,278,6837,9161,276,310,1422,10742,2435,4141,9499,310,3578,20076,9446,491,5164,7903,1705,29879,322,22233,29879,297,278,11563,29915,29879,25005,29889,450,7254,22888,29872,10008,2861,304,17977,683,310,7254,29899,1403,1772,29873,3578,491,19100,4790,264,13206,21337,29892,322,769,25312,3578,411,7933,322,8007,645,340,16225,29879,393,526,29574,515,278,25005,964,278,14744,29889,910,6837,9161,276,4076,14451,304,385,4359,4922,17842,393,338,7962,363,263,5418,310,1048,29871,29896,29900,29899,29906,29900,23836,29879,313,29953,29899,29896,29906,7800,29897,515,11563,29915,29879,7101,29889,450,7254,2927,4550,2582,515,278,14881,1546,1422,3578,10742,2435,4141,9499,29889],\"total_duration\":4432437362,\"load_duration\":1041366014,\"prompt_eval_count\":40,\"prompt_eval_duration\":360000000,\"eval_count\":131,\"eval_duration\":3028000000}\\n'"
      ]
     },
     "execution_count": 42,
     "metadata": {},
     "output_type": "execute_result"
    }
   ],
   "source": [
    "response.text"
   ]
  },
  {
   "cell_type": "markdown",
   "id": "ed06e9bd-6d6e-4182-b4e0-34e9c6db5e78",
   "metadata": {},
   "source": [
    "Besides the added complexity, we also had to wait awhile for the result to show up. You can show the result as it is received using streaming mode (`stream=True` in the `.post()` method). Try it out and notice how the words in the response appear sequentially instead of all at once."
   ]
  },
  {
   "cell_type": "code",
   "execution_count": 43,
   "id": "c6e748a2-f74b-4281-a8cf-3d256d5271ed",
   "metadata": {},
   "outputs": [
    {
     "name": "stdout",
     "output_type": "stream",
     "text": [
      "The sky blue color we see in the sky is not caused by any human activity or intentional manipulation. It's due to the presence of tiny particles, called aerosols, that are suspended in the air. The sun's rays can reflect off these aerosols and create the light blue color visible from Earth. The precise mix of aerosols and atmospheric conditions, such as temperature, humidity, wind direction, and altitude, determine the overall hue or tone of the sky. The color is actually a result of physics and chemistry rather than human design or manipulation."
     ]
    }
   ],
   "source": [
    "data = {\n",
    "    'model': 'tinyllama',\n",
    "    'prompt': 'Why is the sky blue?'\n",
    "}\n",
    "with requests.post('http://localhost:11434/api/generate', data=json.dumps(data), stream=True) as response:\n",
    "    if response.status_code == 200:\n",
    "        for line in response.iter_lines():\n",
    "            if line:\n",
    "                response_data = json.loads(line)\n",
    "                print(response_data.get(\"response\", \"\"), end=\"\", flush=True)"
   ]
  },
  {
   "cell_type": "markdown",
   "id": "25248fa1-755f-4c3e-98aa-66efe6ef9914",
   "metadata": {},
   "source": [
    "# Using the ollama Python library\n",
    "\n",
    "Using the web API is perfectly acceptable, but it requires some extra work. Another option is to use the ollama Python library.\n",
    "\n",
    "Let's start by importing the Ollama library. This library is modeled after the Ollama web API, making it easy to interact with Ollama through Python."
   ]
  },
  {
   "cell_type": "code",
   "execution_count": 44,
   "id": "f4be4164-9bb0-4006-8391-972c6e7575e5",
   "metadata": {},
   "outputs": [],
   "source": [
    "import ollama"
   ]
  },
  {
   "cell_type": "markdown",
   "id": "36323679-353c-4515-ba69-60ba648e0d4c",
   "metadata": {},
   "source": [
    "## Pulling a model\n",
    "\n",
    "You can use the `ollama.pull()` method to pull a new model. In this case, you should already have tinyllama downloaded, so this is just included for demonstration purposes."
   ]
  },
  {
   "cell_type": "code",
   "execution_count": 45,
   "id": "ec76ee99-f7b5-4be3-9671-c6407f2dbc94",
   "metadata": {},
   "outputs": [],
   "source": [
    "# ollama.pull('tinyllama')"
   ]
  },
  {
   "cell_type": "markdown",
   "id": "3a8d5093-289d-4a85-b9c7-b080c7b55ca6",
   "metadata": {},
   "source": [
    "## List available models\n",
    "\n",
    "You can use the ollama library to list available models using the `ollama.list()` method."
   ]
  },
  {
   "cell_type": "code",
   "execution_count": 46,
   "id": "6455f235-dfb2-4145-b699-543d2850cfe7",
   "metadata": {},
   "outputs": [
    {
     "data": {
      "text/plain": [
       "ListResponse(models=[Model(model='tinyllama:latest', modified_at=datetime.datetime(2025, 3, 7, 17, 50, 22, 405498, tzinfo=TzInfo(-06:00)), digest='2644915ede352ea7bdfaff0bfac0be74c719d5d5202acb63a6fb095b52f394a4', size=637700138, details=ModelDetails(parent_model='', format='gguf', family='llama', families=['llama'], parameter_size='1B', quantization_level='Q4_0')), Model(model='deepseek-r1:latest', modified_at=datetime.datetime(2025, 2, 7, 19, 53, 28, 828200, tzinfo=TzInfo(-06:00)), digest='0a8c266910232fd3291e71e5ba1e058cc5af9d411192cf88b6d30e92b6e73163', size=4683075271, details=ModelDetails(parent_model='', format='gguf', family='qwen2', families=['qwen2'], parameter_size='7.6B', quantization_level='Q4_K_M')), Model(model='llama3.2:latest', modified_at=datetime.datetime(2025, 2, 7, 19, 42, 22, 49375, tzinfo=TzInfo(-06:00)), digest='a80c4f17acd55265feec403c7aef86be0c25983ab279d83f3bcd3abbcb5b8b72', size=2019393189, details=ModelDetails(parent_model='', format='gguf', family='llama', families=['llama'], parameter_size='3.2B', quantization_level='Q4_K_M'))])"
      ]
     },
     "execution_count": 46,
     "metadata": {},
     "output_type": "execute_result"
    }
   ],
   "source": [
    "ollama.list()"
   ]
  },
  {
   "cell_type": "markdown",
   "id": "c71461b8-95f6-4c83-9ec7-d5274b335933",
   "metadata": {},
   "source": [
    "Well... 😷 that's kind of ugly. The API response is being cast as a couple of nested objects. Let's just get the names of the models from the API response."
   ]
  },
  {
   "cell_type": "code",
   "execution_count": 49,
   "id": "29dba6cb-9a6f-4647-8482-ebe7865cf36a",
   "metadata": {},
   "outputs": [
    {
     "name": "stdout",
     "output_type": "stream",
     "text": [
      "['tinyllama:latest', 'deepseek-r1:latest', 'llama3.2:latest']\n"
     ]
    }
   ],
   "source": [
    "response = ollama.list()\n",
    "model_names = [response_model.model for response_model in response.models]\n",
    "print(model_names)"
   ]
  },
  {
   "cell_type": "markdown",
   "id": "4743e175-1fef-4d6f-bf22-69b0ead01d10",
   "metadata": {},
   "source": [
    "## Start a chat\n",
    "\n",
    "Chats can be performed either all at once or in \"streaming\" mode, just like before, but it's a little cleaner."
   ]
  },
  {
   "cell_type": "code",
   "execution_count": 47,
   "id": "944ea3cd-f218-497c-b96e-2ae55f5071d0",
   "metadata": {},
   "outputs": [
    {
     "name": "stdout",
     "output_type": "stream",
     "text": [
      "The sky blue color we see in the sky is caused by tiny particles called particles of light, or photons, which are emitted from sunlight and other sources like stars. The particles scatter and refract (bend) into different angles according to the position they encounter, leading to a distinctive appearance of colors. This process occurs due to various factors like atmospheric pressure, temperature, and altitude. \n",
      "\n",
      "Sky blue is formed from mixing two primary colors in proportion - blue being the dominant color and white being the second color. The exact ratio between these two primary colors varies depending on the location and time of day as well as weather conditions. Overall, the sky's blue color is a beautiful and natural phenomenon that we can admire from the ground or higher up in the atmosphere.\n"
     ]
    }
   ],
   "source": [
    "from ollama import chat\n",
    "\n",
    "user_message =   {\n",
    "    'role': 'user',\n",
    "    'content': 'Why is the sky blue?',\n",
    "}\n",
    "response = chat(model='tinyllama', messages=[user_message])\n",
    "print(response.message.content)"
   ]
  },
  {
   "cell_type": "markdown",
   "id": "3790dca8-c42b-4d13-95fc-e91b8c47ab38",
   "metadata": {},
   "source": [
    "## Streaming mode"
   ]
  },
  {
   "cell_type": "code",
   "execution_count": 48,
   "id": "5c18f168-9c91-41be-8ff5-717787d19288",
   "metadata": {},
   "outputs": [
    {
     "name": "stdout",
     "output_type": "stream",
     "text": [
      "The sky is blue due to the reflection of sunlight on the Earth's atmosphere. The colors in the sky come from different wavelengths of light that are absorbed or scattered by the air molecules, which gives them different hues or tones. For example, blue, the most common color seen in the sky, is made up of a combination of blue-violet and ultraviolet light absorbed by the oxygen and nitrogen atoms found in the atmosphere. Other colors in the sky may be created from other wavelengths of light absorbed or scattered differently depending on the atmospheric conditions."
     ]
    }
   ],
   "source": [
    "user_message =   {\n",
    "    'role': 'user',\n",
    "    'content': 'Why is the sky blue?',\n",
    "}\n",
    "response = chat(model='tinyllama', messages=[user_message], stream=True)\n",
    "for chunk in response:\n",
    "    print(chunk.message.content, end='', flush=True)"
   ]
  },
  {
   "cell_type": "markdown",
   "id": "7399a9fa-60b2-453d-ba01-bef5e4bb9d8f",
   "metadata": {},
   "source": [
    "## Chat with history\n",
    "\n",
    "You can maintain chat history by adding on to the messages list."
   ]
  },
  {
   "cell_type": "code",
   "execution_count": 60,
   "id": "1d709ec2-7909-47c9-aeb6-36a1f34726eb",
   "metadata": {},
   "outputs": [
    {
     "name": "stdout",
     "output_type": "stream",
     "text": [
      "Sure thing! Here's a one-paragraph explanation of why the robot joke \"A robot is walking down the street when it hits a lamppost. The robot tries to fix the problem but ends up breaking its leg. It then asks, 'What's a robot doing breaking things with its own two legs?'\" was funny:\n",
      "\n",
      "The robot joke is indeed hilarious because of its absurdity. We've all seen robots break things, right? But here, the machine is trying to fix something that it broke - so the situation is both familiar and hysterical. It also has a quirky twist at the end where the robot finally admits defeat, but we're rooting for them anyway, thanks to their cute and endearing nature. All in all, the joke is a winner!"
     ]
    }
   ],
   "source": [
    "messages = [\n",
    "  {\n",
    "    'role': 'user',\n",
    "    'content': 'Tell me a joke.',\n",
    "  },\n",
    "  {\n",
    "    'role': 'assistant',\n",
    "    'content': 'Sure, here\\'s a joke for you: A robot is walking down the street when it hits a lamppost. The robot tries to fix the problem but ends up breaking its leg. It then asks, \"What\\'s a robot doing breaking things with its own two legs?\"',\n",
    "  },\n",
    "  {\n",
    "    'role': 'user',\n",
    "    'content': 'Write a one-paragraph essay explaining why that joke was funny.',\n",
    "  },\n",
    "]\n",
    "\n",
    "response = chat(model='tinyllama', messages=messages, stream=True)\n",
    "for chunk in response:\n",
    "    print(chunk.message.content, end='', flush=True)"
   ]
  },
  {
   "cell_type": "markdown",
   "id": "d4136313-97c0-4e82-bd72-ed6399939ac8",
   "metadata": {},
   "source": [
    "# Creating your own model\n",
    "\n",
    "You can create your own models, allowing customization of, e.g., the system prompt."
   ]
  },
  {
   "cell_type": "code",
   "execution_count": 71,
   "id": "61c8b597-c56e-4726-b206-aeba80053063",
   "metadata": {},
   "outputs": [
    {
     "name": "stdout",
     "output_type": "stream",
     "text": [
      "status='success' completed=None total=None digest=None\n"
     ]
    }
   ],
   "source": [
    "from ollama import Client\n",
    "\n",
    "client = Client()\n",
    "response = client.create(\n",
    "    model='goldfish',\n",
    "    from_='tinyllama',\n",
    "    system='You have a very short attention span. Start answering each prompt and them abruptly begin talking about something else.',\n",
    "    stream=False\n",
    ")\n",
    "print(response)"
   ]
  },
  {
   "cell_type": "markdown",
   "id": "6a060cb8-ac04-4c66-bc1f-09c0839b7378",
   "metadata": {},
   "source": [
    "If we list our models again, we now see a new model called goldfish."
   ]
  },
  {
   "cell_type": "code",
   "execution_count": 72,
   "id": "17b843cb-442f-4b8e-b4b0-c27b50bc60b5",
   "metadata": {},
   "outputs": [
    {
     "name": "stdout",
     "output_type": "stream",
     "text": [
      "['goldfish:latest', 'tinyllama:latest', 'deepseek-r1:latest', 'llama3.2:latest']\n"
     ]
    }
   ],
   "source": [
    "response = ollama.list()\n",
    "model_names = [response_model.model for response_model in response.models]\n",
    "print(model_names)"
   ]
  },
  {
   "cell_type": "markdown",
   "id": "8c6a6cf3-5446-4851-80bf-9d36b16481f0",
   "metadata": {},
   "source": [
    "Let's use our new model for a chat."
   ]
  },
  {
   "cell_type": "code",
   "execution_count": 73,
   "id": "69c3e485-8baa-419c-bea6-be90b6a45a28",
   "metadata": {},
   "outputs": [
    {
     "name": "stdout",
     "output_type": "stream",
     "text": [
      "The sky is blue because of the interaction between its primary colors, blue and yellow. Blue, or technically a violet color, reflects light in two ways: red and green. These colors are created when sunlight passes through atmospheric pollutants (such as dust and water vapor) that scatter the shortest wavelengths of visible light into longer wavelengths, creating blue, green, and yellow colors. The longer wavelengths are scattered more than the shorter wavelengths, resulting in a bluish-green hue."
     ]
    }
   ],
   "source": [
    "user_message =   {\n",
    "    'role': 'user',\n",
    "    'content': 'Why is the sky blue?',\n",
    "}\n",
    "response = chat(model='goldfish', messages=[user_message], stream=True)\n",
    "for chunk in response:\n",
    "    print(chunk.message.content, end='', flush=True)"
   ]
  },
  {
   "cell_type": "markdown",
   "id": "e218fdd6-8b55-41ba-ae6b-bf671e5f6b6e",
   "metadata": {},
   "source": [
    "Unfortunately, it doesn't really work with tinyllama. Can you come up with any fun clients by combining other models with different system prompts?"
   ]
  }
 ],
 "metadata": {
  "kernelspec": {
   "display_name": "Python 3 (ipykernel)",
   "language": "python",
   "name": "python3"
  },
  "language_info": {
   "codemirror_mode": {
    "name": "ipython",
    "version": 3
   },
   "file_extension": ".py",
   "mimetype": "text/x-python",
   "name": "python",
   "nbconvert_exporter": "python",
   "pygments_lexer": "ipython3",
   "version": "3.13.1"
  }
 },
 "nbformat": 4,
 "nbformat_minor": 5
}
