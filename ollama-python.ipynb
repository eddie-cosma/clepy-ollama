{
 "cells": [
  {
   "cell_type": "markdown",
   "id": "25895ddc-7d80-49b1-83cf-3df48482a4c0",
   "metadata": {},
   "source": [
    "# Getting started"
   ]
  },
  {
   "cell_type": "markdown",
   "id": "c7565c84-dbc2-46e9-aea1-4579bc104813",
   "metadata": {},
   "source": [
    "## Make sure Ollama is running\n",
    "\n",
    "Go to [http://localhost:11434](http://localhost:11434) in your browser and make sure you get the response `Ollama is running`"
   ]
  },
  {
   "cell_type": "markdown",
   "id": "151d17bd-ca17-4e9e-9f0c-d45d8a7440c2",
   "metadata": {},
   "source": [
    "# Accessing the Ollama API with requests"
   ]
  },
  {
   "cell_type": "code",
   "execution_count": 1,
   "id": "c341e58d-b032-4e8d-818b-bea453438ce9",
   "metadata": {},
   "outputs": [],
   "source": [
    "import requests"
   ]
  },
  {
   "cell_type": "markdown",
   "id": "4d297576-e021-49db-85f0-354988d395be",
   "metadata": {},
   "source": [
    "Let's start by getting the version of ollama we're running."
   ]
  },
  {
   "cell_type": "code",
   "execution_count": 32,
   "id": "bc705130-e9a4-460e-b11c-a4d201b354df",
   "metadata": {},
   "outputs": [
    {
     "data": {
      "text/plain": [
       "'0.5.13'"
      ]
     },
     "execution_count": 32,
     "metadata": {},
     "output_type": "execute_result"
    }
   ],
   "source": [
    "api_version = requests.get('http://localhost:11434/api/version')\n",
    "api_version.json().get('version')"
   ]
  },
  {
   "cell_type": "markdown",
   "id": "8a0f2abf-2f34-4cb1-86d8-cf368e2d742b",
   "metadata": {},
   "source": [
    "That's cool. Let's try chatting with it:"
   ]
  },
  {
   "cell_type": "code",
   "execution_count": 29,
   "id": "e1adc22e-22f4-4e96-9a1f-35a8dc183e7b",
   "metadata": {},
   "outputs": [
    {
     "name": "stdout",
     "output_type": "stream",
     "text": [
      "The sky is blue due to a mixture of sunlight and water vapor emitted by the earth's atmosphere. Sunlight is responsible for roughly 93% of the light that reaches Earth, while the remaining 7% is reflected from the surface of the planet. The remaining amount of light is absorbed by the atmospheric particles (including dust and water droplets) before it reaches the ground or sea. The balance between sunlight and atmospheric particles produces a colorful spectrum that we see as blue. However, there are other colors in the visible spectrum besides blue, such as green, yellow, and red."
     ]
    }
   ],
   "source": [
    "import json\n",
    "\n",
    "data = {\n",
    "    'model': 'tinyllama',\n",
    "    'prompt': 'Why is the sky blue?'\n",
    "}\n",
    "response = requests.post('http://localhost:11434/api/generate', data=json.dumps(data))\n",
    "if response.status_code == 200:\n",
    "    for line in response.iter_lines():\n",
    "        if line:\n",
    "            response_data = json.loads(line)\n",
    "            print(response_data.get(\"response\", \"\"), end=\"\", flush=True)"
   ]
  },
  {
   "cell_type": "markdown",
   "id": "72466aa9-b437-44f5-b6f4-8473afa784ac",
   "metadata": {},
   "source": [
    "🤔 As you can see, things got a little bit complicated. Because the reponse from ollama is actually a list of JSON objects, we need to parse through them to get the actual text response from each object. This is what the raw response looks like:"
   ]
  },
  {
   "cell_type": "code",
   "execution_count": 31,
   "id": "4feaefa7-b922-4ea0-91b1-5acb53a1020a",
   "metadata": {
    "scrolled": true
   },
   "outputs": [
    {
     "data": {
      "text/plain": [
       "'{\"model\":\"tinyllama\",\"created_at\":\"2025-03-10T23:50:19.288912Z\",\"response\":\"The\",\"done\":false}\\n{\"model\":\"tinyllama\",\"created_at\":\"2025-03-10T23:50:19.310647Z\",\"response\":\" sky\",\"done\":false}\\n{\"model\":\"tinyllama\",\"created_at\":\"2025-03-10T23:50:19.331364Z\",\"response\":\" is\",\"done\":false}\\n{\"model\":\"tinyllama\",\"created_at\":\"2025-03-10T23:50:19.351242Z\",\"response\":\" blue\",\"done\":false}\\n{\"model\":\"tinyllama\",\"created_at\":\"2025-03-10T23:50:19.371313Z\",\"response\":\" due\",\"done\":false}\\n{\"model\":\"tinyllama\",\"created_at\":\"2025-03-10T23:50:19.391875Z\",\"response\":\" to\",\"done\":false}\\n{\"model\":\"tinyllama\",\"created_at\":\"2025-03-10T23:50:19.411081Z\",\"response\":\" a\",\"done\":false}\\n{\"model\":\"tinyllama\",\"created_at\":\"2025-03-10T23:50:19.432658Z\",\"response\":\" mixture\",\"done\":false}\\n{\"model\":\"tinyllama\",\"created_at\":\"2025-03-10T23:50:19.452221Z\",\"response\":\" of\",\"done\":false}\\n{\"model\":\"tinyllama\",\"created_at\":\"2025-03-10T23:50:19.472257Z\",\"response\":\" sun\",\"done\":false}\\n{\"model\":\"tinyllama\",\"created_at\":\"2025-03-10T23:50:19.492968Z\",\"response\":\"light\",\"done\":false}\\n{\"model\":\"tinyllama\",\"created_at\":\"2025-03-10T23:50:19.513093Z\",\"response\":\" and\",\"done\":false}\\n{\"model\":\"tinyllama\",\"created_at\":\"2025-03-10T23:50:19.532963Z\",\"response\":\" water\",\"done\":false}\\n{\"model\":\"tinyllama\",\"created_at\":\"2025-03-10T23:50:19.553326Z\",\"response\":\" v\",\"done\":false}\\n{\"model\":\"tinyllama\",\"created_at\":\"2025-03-10T23:50:19.572841Z\",\"response\":\"apor\",\"done\":false}\\n{\"model\":\"tinyllama\",\"created_at\":\"2025-03-10T23:50:19.592551Z\",\"response\":\" em\",\"done\":false}\\n{\"model\":\"tinyllama\",\"created_at\":\"2025-03-10T23:50:19.612499Z\",\"response\":\"itted\",\"done\":false}\\n{\"model\":\"tinyllama\",\"created_at\":\"2025-03-10T23:50:19.633412Z\",\"response\":\" by\",\"done\":false}\\n{\"model\":\"tinyllama\",\"created_at\":\"2025-03-10T23:50:19.654466Z\",\"response\":\" the\",\"done\":false}\\n{\"model\":\"tinyllama\",\"created_at\":\"2025-03-10T23:50:19.674994Z\",\"response\":\" earth\",\"done\":false}\\n{\"model\":\"tinyllama\",\"created_at\":\"2025-03-10T23:50:19.695735Z\",\"response\":\"\\'\",\"done\":false}\\n{\"model\":\"tinyllama\",\"created_at\":\"2025-03-10T23:50:19.716503Z\",\"response\":\"s\",\"done\":false}\\n{\"model\":\"tinyllama\",\"created_at\":\"2025-03-10T23:50:19.738286Z\",\"response\":\" atmosphere\",\"done\":false}\\n{\"model\":\"tinyllama\",\"created_at\":\"2025-03-10T23:50:19.759004Z\",\"response\":\".\",\"done\":false}\\n{\"model\":\"tinyllama\",\"created_at\":\"2025-03-10T23:50:19.779749Z\",\"response\":\" Sun\",\"done\":false}\\n{\"model\":\"tinyllama\",\"created_at\":\"2025-03-10T23:50:19.801613Z\",\"response\":\"light\",\"done\":false}\\n{\"model\":\"tinyllama\",\"created_at\":\"2025-03-10T23:50:19.823748Z\",\"response\":\" is\",\"done\":false}\\n{\"model\":\"tinyllama\",\"created_at\":\"2025-03-10T23:50:19.846127Z\",\"response\":\" responsible\",\"done\":false}\\n{\"model\":\"tinyllama\",\"created_at\":\"2025-03-10T23:50:19.866852Z\",\"response\":\" for\",\"done\":false}\\n{\"model\":\"tinyllama\",\"created_at\":\"2025-03-10T23:50:19.888162Z\",\"response\":\" roughly\",\"done\":false}\\n{\"model\":\"tinyllama\",\"created_at\":\"2025-03-10T23:50:19.908532Z\",\"response\":\" \",\"done\":false}\\n{\"model\":\"tinyllama\",\"created_at\":\"2025-03-10T23:50:19.930404Z\",\"response\":\"9\",\"done\":false}\\n{\"model\":\"tinyllama\",\"created_at\":\"2025-03-10T23:50:19.950281Z\",\"response\":\"3\",\"done\":false}\\n{\"model\":\"tinyllama\",\"created_at\":\"2025-03-10T23:50:19.969877Z\",\"response\":\"%\",\"done\":false}\\n{\"model\":\"tinyllama\",\"created_at\":\"2025-03-10T23:50:19.989799Z\",\"response\":\" of\",\"done\":false}\\n{\"model\":\"tinyllama\",\"created_at\":\"2025-03-10T23:50:20.00981Z\",\"response\":\" the\",\"done\":false}\\n{\"model\":\"tinyllama\",\"created_at\":\"2025-03-10T23:50:20.029445Z\",\"response\":\" light\",\"done\":false}\\n{\"model\":\"tinyllama\",\"created_at\":\"2025-03-10T23:50:20.049233Z\",\"response\":\" that\",\"done\":false}\\n{\"model\":\"tinyllama\",\"created_at\":\"2025-03-10T23:50:20.069337Z\",\"response\":\" reaches\",\"done\":false}\\n{\"model\":\"tinyllama\",\"created_at\":\"2025-03-10T23:50:20.090756Z\",\"response\":\" Earth\",\"done\":false}\\n{\"model\":\"tinyllama\",\"created_at\":\"2025-03-10T23:50:20.113753Z\",\"response\":\",\",\"done\":false}\\n{\"model\":\"tinyllama\",\"created_at\":\"2025-03-10T23:50:20.133535Z\",\"response\":\" while\",\"done\":false}\\n{\"model\":\"tinyllama\",\"created_at\":\"2025-03-10T23:50:20.153082Z\",\"response\":\" the\",\"done\":false}\\n{\"model\":\"tinyllama\",\"created_at\":\"2025-03-10T23:50:20.173169Z\",\"response\":\" remaining\",\"done\":false}\\n{\"model\":\"tinyllama\",\"created_at\":\"2025-03-10T23:50:20.194399Z\",\"response\":\" \",\"done\":false}\\n{\"model\":\"tinyllama\",\"created_at\":\"2025-03-10T23:50:20.215861Z\",\"response\":\"7\",\"done\":false}\\n{\"model\":\"tinyllama\",\"created_at\":\"2025-03-10T23:50:20.238842Z\",\"response\":\"%\",\"done\":false}\\n{\"model\":\"tinyllama\",\"created_at\":\"2025-03-10T23:50:20.259984Z\",\"response\":\" is\",\"done\":false}\\n{\"model\":\"tinyllama\",\"created_at\":\"2025-03-10T23:50:20.281179Z\",\"response\":\" reflected\",\"done\":false}\\n{\"model\":\"tinyllama\",\"created_at\":\"2025-03-10T23:50:20.302439Z\",\"response\":\" from\",\"done\":false}\\n{\"model\":\"tinyllama\",\"created_at\":\"2025-03-10T23:50:20.323699Z\",\"response\":\" the\",\"done\":false}\\n{\"model\":\"tinyllama\",\"created_at\":\"2025-03-10T23:50:20.344153Z\",\"response\":\" surface\",\"done\":false}\\n{\"model\":\"tinyllama\",\"created_at\":\"2025-03-10T23:50:20.363986Z\",\"response\":\" of\",\"done\":false}\\n{\"model\":\"tinyllama\",\"created_at\":\"2025-03-10T23:50:20.383762Z\",\"response\":\" the\",\"done\":false}\\n{\"model\":\"tinyllama\",\"created_at\":\"2025-03-10T23:50:20.404256Z\",\"response\":\" planet\",\"done\":false}\\n{\"model\":\"tinyllama\",\"created_at\":\"2025-03-10T23:50:20.423879Z\",\"response\":\".\",\"done\":false}\\n{\"model\":\"tinyllama\",\"created_at\":\"2025-03-10T23:50:20.443179Z\",\"response\":\" The\",\"done\":false}\\n{\"model\":\"tinyllama\",\"created_at\":\"2025-03-10T23:50:20.462833Z\",\"response\":\" remaining\",\"done\":false}\\n{\"model\":\"tinyllama\",\"created_at\":\"2025-03-10T23:50:20.483852Z\",\"response\":\" amount\",\"done\":false}\\n{\"model\":\"tinyllama\",\"created_at\":\"2025-03-10T23:50:20.504219Z\",\"response\":\" of\",\"done\":false}\\n{\"model\":\"tinyllama\",\"created_at\":\"2025-03-10T23:50:20.524605Z\",\"response\":\" light\",\"done\":false}\\n{\"model\":\"tinyllama\",\"created_at\":\"2025-03-10T23:50:20.544812Z\",\"response\":\" is\",\"done\":false}\\n{\"model\":\"tinyllama\",\"created_at\":\"2025-03-10T23:50:20.565292Z\",\"response\":\" absor\",\"done\":false}\\n{\"model\":\"tinyllama\",\"created_at\":\"2025-03-10T23:50:20.586086Z\",\"response\":\"bed\",\"done\":false}\\n{\"model\":\"tinyllama\",\"created_at\":\"2025-03-10T23:50:20.605676Z\",\"response\":\" by\",\"done\":false}\\n{\"model\":\"tinyllama\",\"created_at\":\"2025-03-10T23:50:20.625054Z\",\"response\":\" the\",\"done\":false}\\n{\"model\":\"tinyllama\",\"created_at\":\"2025-03-10T23:50:20.644536Z\",\"response\":\" atmos\",\"done\":false}\\n{\"model\":\"tinyllama\",\"created_at\":\"2025-03-10T23:50:20.664168Z\",\"response\":\"pher\",\"done\":false}\\n{\"model\":\"tinyllama\",\"created_at\":\"2025-03-10T23:50:20.683657Z\",\"response\":\"ic\",\"done\":false}\\n{\"model\":\"tinyllama\",\"created_at\":\"2025-03-10T23:50:20.70397Z\",\"response\":\" particles\",\"done\":false}\\n{\"model\":\"tinyllama\",\"created_at\":\"2025-03-10T23:50:20.725118Z\",\"response\":\" (\",\"done\":false}\\n{\"model\":\"tinyllama\",\"created_at\":\"2025-03-10T23:50:20.745877Z\",\"response\":\"including\",\"done\":false}\\n{\"model\":\"tinyllama\",\"created_at\":\"2025-03-10T23:50:20.767205Z\",\"response\":\" dust\",\"done\":false}\\n{\"model\":\"tinyllama\",\"created_at\":\"2025-03-10T23:50:20.788881Z\",\"response\":\" and\",\"done\":false}\\n{\"model\":\"tinyllama\",\"created_at\":\"2025-03-10T23:50:20.810309Z\",\"response\":\" water\",\"done\":false}\\n{\"model\":\"tinyllama\",\"created_at\":\"2025-03-10T23:50:20.831441Z\",\"response\":\" dro\",\"done\":false}\\n{\"model\":\"tinyllama\",\"created_at\":\"2025-03-10T23:50:20.852608Z\",\"response\":\"ple\",\"done\":false}\\n{\"model\":\"tinyllama\",\"created_at\":\"2025-03-10T23:50:20.873692Z\",\"response\":\"ts\",\"done\":false}\\n{\"model\":\"tinyllama\",\"created_at\":\"2025-03-10T23:50:20.894117Z\",\"response\":\")\",\"done\":false}\\n{\"model\":\"tinyllama\",\"created_at\":\"2025-03-10T23:50:20.913967Z\",\"response\":\" before\",\"done\":false}\\n{\"model\":\"tinyllama\",\"created_at\":\"2025-03-10T23:50:20.934297Z\",\"response\":\" it\",\"done\":false}\\n{\"model\":\"tinyllama\",\"created_at\":\"2025-03-10T23:50:20.953956Z\",\"response\":\" reaches\",\"done\":false}\\n{\"model\":\"tinyllama\",\"created_at\":\"2025-03-10T23:50:20.974018Z\",\"response\":\" the\",\"done\":false}\\n{\"model\":\"tinyllama\",\"created_at\":\"2025-03-10T23:50:20.993235Z\",\"response\":\" ground\",\"done\":false}\\n{\"model\":\"tinyllama\",\"created_at\":\"2025-03-10T23:50:21.012273Z\",\"response\":\" or\",\"done\":false}\\n{\"model\":\"tinyllama\",\"created_at\":\"2025-03-10T23:50:21.031308Z\",\"response\":\" sea\",\"done\":false}\\n{\"model\":\"tinyllama\",\"created_at\":\"2025-03-10T23:50:21.050221Z\",\"response\":\".\",\"done\":false}\\n{\"model\":\"tinyllama\",\"created_at\":\"2025-03-10T23:50:21.07047Z\",\"response\":\" The\",\"done\":false}\\n{\"model\":\"tinyllama\",\"created_at\":\"2025-03-10T23:50:21.089605Z\",\"response\":\" balance\",\"done\":false}\\n{\"model\":\"tinyllama\",\"created_at\":\"2025-03-10T23:50:21.109145Z\",\"response\":\" between\",\"done\":false}\\n{\"model\":\"tinyllama\",\"created_at\":\"2025-03-10T23:50:21.128627Z\",\"response\":\" sun\",\"done\":false}\\n{\"model\":\"tinyllama\",\"created_at\":\"2025-03-10T23:50:21.148179Z\",\"response\":\"light\",\"done\":false}\\n{\"model\":\"tinyllama\",\"created_at\":\"2025-03-10T23:50:21.167573Z\",\"response\":\" and\",\"done\":false}\\n{\"model\":\"tinyllama\",\"created_at\":\"2025-03-10T23:50:21.187263Z\",\"response\":\" atmos\",\"done\":false}\\n{\"model\":\"tinyllama\",\"created_at\":\"2025-03-10T23:50:21.207133Z\",\"response\":\"pher\",\"done\":false}\\n{\"model\":\"tinyllama\",\"created_at\":\"2025-03-10T23:50:21.226864Z\",\"response\":\"ic\",\"done\":false}\\n{\"model\":\"tinyllama\",\"created_at\":\"2025-03-10T23:50:21.247647Z\",\"response\":\" particles\",\"done\":false}\\n{\"model\":\"tinyllama\",\"created_at\":\"2025-03-10T23:50:21.268744Z\",\"response\":\" produces\",\"done\":false}\\n{\"model\":\"tinyllama\",\"created_at\":\"2025-03-10T23:50:21.28869Z\",\"response\":\" a\",\"done\":false}\\n{\"model\":\"tinyllama\",\"created_at\":\"2025-03-10T23:50:21.308325Z\",\"response\":\" color\",\"done\":false}\\n{\"model\":\"tinyllama\",\"created_at\":\"2025-03-10T23:50:21.327789Z\",\"response\":\"ful\",\"done\":false}\\n{\"model\":\"tinyllama\",\"created_at\":\"2025-03-10T23:50:21.347304Z\",\"response\":\" spectrum\",\"done\":false}\\n{\"model\":\"tinyllama\",\"created_at\":\"2025-03-10T23:50:21.366931Z\",\"response\":\" that\",\"done\":false}\\n{\"model\":\"tinyllama\",\"created_at\":\"2025-03-10T23:50:21.386519Z\",\"response\":\" we\",\"done\":false}\\n{\"model\":\"tinyllama\",\"created_at\":\"2025-03-10T23:50:21.407775Z\",\"response\":\" see\",\"done\":false}\\n{\"model\":\"tinyllama\",\"created_at\":\"2025-03-10T23:50:21.42723Z\",\"response\":\" as\",\"done\":false}\\n{\"model\":\"tinyllama\",\"created_at\":\"2025-03-10T23:50:21.446753Z\",\"response\":\" blue\",\"done\":false}\\n{\"model\":\"tinyllama\",\"created_at\":\"2025-03-10T23:50:21.466782Z\",\"response\":\".\",\"done\":false}\\n{\"model\":\"tinyllama\",\"created_at\":\"2025-03-10T23:50:21.48744Z\",\"response\":\" However\",\"done\":false}\\n{\"model\":\"tinyllama\",\"created_at\":\"2025-03-10T23:50:21.50835Z\",\"response\":\",\",\"done\":false}\\n{\"model\":\"tinyllama\",\"created_at\":\"2025-03-10T23:50:21.528697Z\",\"response\":\" there\",\"done\":false}\\n{\"model\":\"tinyllama\",\"created_at\":\"2025-03-10T23:50:21.549683Z\",\"response\":\" are\",\"done\":false}\\n{\"model\":\"tinyllama\",\"created_at\":\"2025-03-10T23:50:21.570158Z\",\"response\":\" other\",\"done\":false}\\n{\"model\":\"tinyllama\",\"created_at\":\"2025-03-10T23:50:21.591147Z\",\"response\":\" colors\",\"done\":false}\\n{\"model\":\"tinyllama\",\"created_at\":\"2025-03-10T23:50:21.612177Z\",\"response\":\" in\",\"done\":false}\\n{\"model\":\"tinyllama\",\"created_at\":\"2025-03-10T23:50:21.631918Z\",\"response\":\" the\",\"done\":false}\\n{\"model\":\"tinyllama\",\"created_at\":\"2025-03-10T23:50:21.651568Z\",\"response\":\" visible\",\"done\":false}\\n{\"model\":\"tinyllama\",\"created_at\":\"2025-03-10T23:50:21.671392Z\",\"response\":\" spectrum\",\"done\":false}\\n{\"model\":\"tinyllama\",\"created_at\":\"2025-03-10T23:50:21.691651Z\",\"response\":\" besides\",\"done\":false}\\n{\"model\":\"tinyllama\",\"created_at\":\"2025-03-10T23:50:21.71175Z\",\"response\":\" blue\",\"done\":false}\\n{\"model\":\"tinyllama\",\"created_at\":\"2025-03-10T23:50:21.731355Z\",\"response\":\",\",\"done\":false}\\n{\"model\":\"tinyllama\",\"created_at\":\"2025-03-10T23:50:21.75081Z\",\"response\":\" such\",\"done\":false}\\n{\"model\":\"tinyllama\",\"created_at\":\"2025-03-10T23:50:21.771248Z\",\"response\":\" as\",\"done\":false}\\n{\"model\":\"tinyllama\",\"created_at\":\"2025-03-10T23:50:21.790833Z\",\"response\":\" green\",\"done\":false}\\n{\"model\":\"tinyllama\",\"created_at\":\"2025-03-10T23:50:21.810405Z\",\"response\":\",\",\"done\":false}\\n{\"model\":\"tinyllama\",\"created_at\":\"2025-03-10T23:50:21.829763Z\",\"response\":\" yellow\",\"done\":false}\\n{\"model\":\"tinyllama\",\"created_at\":\"2025-03-10T23:50:21.850327Z\",\"response\":\",\",\"done\":false}\\n{\"model\":\"tinyllama\",\"created_at\":\"2025-03-10T23:50:21.869677Z\",\"response\":\" and\",\"done\":false}\\n{\"model\":\"tinyllama\",\"created_at\":\"2025-03-10T23:50:21.89059Z\",\"response\":\" red\",\"done\":false}\\n{\"model\":\"tinyllama\",\"created_at\":\"2025-03-10T23:50:21.909879Z\",\"response\":\".\",\"done\":false}\\n{\"model\":\"tinyllama\",\"created_at\":\"2025-03-10T23:50:21.930042Z\",\"response\":\"\",\"done\":true,\"done_reason\":\"stop\",\"context\":[529,29989,5205,29989,29958,13,3492,526,263,8444,319,29902,20255,29889,2,29871,13,29966,29989,1792,29989,29958,13,11008,338,278,14744,7254,29973,2,29871,13,29966,29989,465,22137,29989,29958,13,1576,14744,338,7254,2861,304,263,6837,9161,276,310,6575,4366,322,4094,2947,1971,20076,9446,491,278,8437,29915,29879,25005,29889,8991,4366,338,14040,363,20928,29871,29929,29941,29995,310,278,3578,393,22170,11563,29892,1550,278,9886,29871,29955,29995,338,25312,515,278,7101,310,278,15754,29889,450,9886,5253,310,3578,338,17977,2580,491,278,15489,8096,293,17105,313,3742,6092,8497,19786,322,4094,5768,10376,29897,1434,372,22170,278,5962,470,7205,29889,450,17346,1546,6575,4366,322,15489,8096,293,17105,13880,263,2927,1319,18272,393,591,1074,408,7254,29889,2398,29892,727,526,916,11955,297,278,7962,18272,18034,7254,29892,1316,408,7933,29892,8007,645,340,29892,322,2654,29889],\"total_duration\":2695438272,\"load_duration\":21584317,\"prompt_eval_count\":40,\"prompt_eval_duration\":31000000,\"eval_count\":131,\"eval_duration\":2641000000}\\n'"
      ]
     },
     "execution_count": 31,
     "metadata": {},
     "output_type": "execute_result"
    }
   ],
   "source": [
    "response.text"
   ]
  },
  {
   "cell_type": "markdown",
   "id": "ed06e9bd-6d6e-4182-b4e0-34e9c6db5e78",
   "metadata": {},
   "source": [
    "Besides the added complexity, we also had to wait awhile for the result to show up. You can show the result as it is received using streaming mode (`stream=True` in the `.post()` method). Try it out and notice how the words in the response appear sequentially instead of all at once."
   ]
  },
  {
   "cell_type": "code",
   "execution_count": 33,
   "id": "c6e748a2-f74b-4281-a8cf-3d256d5271ed",
   "metadata": {},
   "outputs": [
    {
     "name": "stdout",
     "output_type": "stream",
     "text": [
      "The sky blue color we see in the atmosphere of our planet Earth is caused by the presence of various trace elements and compounds that occur naturally in the earth's crust. These include iron, aluminum, magnesium, zinc, cadmium, sulfur, titanium, copper, molybdenum, and vanadium, among others. The colors seen in the sky depend on the chemical composition of the air we breathe, as well as the altitude at which we are standing. For instance, when the sun rises above a low altitude, the sunlight absorbs more light wavelengths from the atmosphere, leading to a brighter and bluer color of sky compared to higher altitudes where sunlight is reflected back into space. Ultimately, how much blue the sky appears depends on many factors such as wind patterns, temperature, humidity, and atmospheric conditions."
     ]
    }
   ],
   "source": [
    "data = {\n",
    "    'model': 'tinyllama',\n",
    "    'prompt': 'Why is the sky blue?'\n",
    "}\n",
    "with requests.post('http://localhost:11434/api/generate', data=json.dumps(data), stream=True) as response:\n",
    "    if response.status_code == 200:\n",
    "        for line in response.iter_lines():\n",
    "            if line:\n",
    "                response_data = json.loads(line)\n",
    "                print(response_data.get(\"response\", \"\"), end=\"\", flush=True)"
   ]
  },
  {
   "cell_type": "markdown",
   "id": "25248fa1-755f-4c3e-98aa-66efe6ef9914",
   "metadata": {},
   "source": [
    "# Using the ollama Python library\n",
    "\n",
    "Using the web API is perfectly acceptable, but it requires some extra work. Another option is to use the ollama Python library.\n",
    "\n",
    "Let's start by importing the Ollama library. This library is modeled after the Ollama web API, making it easy to interact with Ollama through Python."
   ]
  },
  {
   "cell_type": "code",
   "execution_count": 34,
   "id": "f4be4164-9bb0-4006-8391-972c6e7575e5",
   "metadata": {},
   "outputs": [],
   "source": [
    "import ollama"
   ]
  },
  {
   "cell_type": "markdown",
   "id": "36323679-353c-4515-ba69-60ba648e0d4c",
   "metadata": {},
   "source": [
    "## Pulling a model\n",
    "\n",
    "You can use the `ollama.pull()` method to pull a new model. In this case, you should already have tinyllama downloaded, so this is just included for demonstration purposes."
   ]
  },
  {
   "cell_type": "code",
   "execution_count": 5,
   "id": "ec76ee99-f7b5-4be3-9671-c6407f2dbc94",
   "metadata": {},
   "outputs": [
    {
     "data": {
      "text/plain": [
       "ProgressResponse(status='success', completed=None, total=None, digest=None)"
      ]
     },
     "execution_count": 5,
     "metadata": {},
     "output_type": "execute_result"
    }
   ],
   "source": [
    "# ollama.pull('tinyllama')"
   ]
  },
  {
   "cell_type": "markdown",
   "id": "3a8d5093-289d-4a85-b9c7-b080c7b55ca6",
   "metadata": {},
   "source": [
    "## List available models\n",
    "\n",
    "You can use the ollama library to list available models using the `ollama.list()` method."
   ]
  },
  {
   "cell_type": "code",
   "execution_count": 6,
   "id": "6455f235-dfb2-4145-b699-543d2850cfe7",
   "metadata": {},
   "outputs": [
    {
     "data": {
      "text/plain": [
       "ListResponse(models=[Model(model='tinyllama:latest', modified_at=datetime.datetime(2025, 3, 7, 17, 50, 22, 405498, tzinfo=TzInfo(-06:00)), digest='2644915ede352ea7bdfaff0bfac0be74c719d5d5202acb63a6fb095b52f394a4', size=637700138, details=ModelDetails(parent_model='', format='gguf', family='llama', families=['llama'], parameter_size='1B', quantization_level='Q4_0')), Model(model='deepseek-r1:latest', modified_at=datetime.datetime(2025, 2, 7, 19, 53, 28, 828200, tzinfo=TzInfo(-06:00)), digest='0a8c266910232fd3291e71e5ba1e058cc5af9d411192cf88b6d30e92b6e73163', size=4683075271, details=ModelDetails(parent_model='', format='gguf', family='qwen2', families=['qwen2'], parameter_size='7.6B', quantization_level='Q4_K_M')), Model(model='llama3.2:latest', modified_at=datetime.datetime(2025, 2, 7, 19, 42, 22, 49375, tzinfo=TzInfo(-06:00)), digest='a80c4f17acd55265feec403c7aef86be0c25983ab279d83f3bcd3abbcb5b8b72', size=2019393189, details=ModelDetails(parent_model='', format='gguf', family='llama', families=['llama'], parameter_size='3.2B', quantization_level='Q4_K_M'))])"
      ]
     },
     "execution_count": 6,
     "metadata": {},
     "output_type": "execute_result"
    }
   ],
   "source": [
    "ollama.list()"
   ]
  },
  {
   "cell_type": "markdown",
   "id": "c71461b8-95f6-4c83-9ec7-d5274b335933",
   "metadata": {},
   "source": [
    "Well... 😷 that's kind of ugly. The API response is being cast as a couple of nested objects. Let's just get the names of the models from the API response."
   ]
  },
  {
   "cell_type": "markdown",
   "id": "d8625ddd-ca5a-47a9-aa30-9b76bc7070aa",
   "metadata": {},
   "source": [
    "response = ollama.list()\n",
    "model_names = [response_model.model for response_model in response.models]\n",
    "print(model_names)"
   ]
  },
  {
   "cell_type": "markdown",
   "id": "4743e175-1fef-4d6f-bf22-69b0ead01d10",
   "metadata": {},
   "source": [
    "## Start a chat\n",
    "\n",
    "Chats can be performed either all at once or in \"streaming\" mode, just like before, but it's a little cleaner."
   ]
  },
  {
   "cell_type": "code",
   "execution_count": 35,
   "id": "944ea3cd-f218-497c-b96e-2ae55f5071d0",
   "metadata": {},
   "outputs": [
    {
     "name": "stdout",
     "output_type": "stream",
     "text": [
      "The sky blue color is caused by the presence of various compounds in the atmosphere, including blue light-absorbing substances like carbon nanotubes and titanium dioxide. These substances absorb blue light, which makes it appear blue in the sky. The blue hue that we observe in the sky is also influenced by the tilt of Earth's axis relative to the sun, as well as the angle at which the sun and its rays are received by the atmosphere. Ultimately, the exact reasons why the sky appears blue depend on various factors, such as atmospheric conditions, topography, and geological features.\n"
     ]
    }
   ],
   "source": [
    "from ollama import chat\n",
    "\n",
    "user_message =   {\n",
    "    'role': 'user',\n",
    "    'content': 'Why is the sky blue?',\n",
    "}\n",
    "response = chat(model='tinyllama', messages=[user_message])\n",
    "print(response.message.content)"
   ]
  },
  {
   "cell_type": "markdown",
   "id": "3790dca8-c42b-4d13-95fc-e91b8c47ab38",
   "metadata": {},
   "source": [
    "## Streaming mode"
   ]
  },
  {
   "cell_type": "code",
   "execution_count": 38,
   "id": "5c18f168-9c91-41be-8ff5-717787d19288",
   "metadata": {},
   "outputs": [
    {
     "name": "stdout",
     "output_type": "stream",
     "text": [
      "The answer to the question \"why is the sky blue?\" is not definitive, as it varies depending on various factors, such as latitude, temperature, cloud formations, and atmospheric conditions. However, some common explanations include:\n",
      "\n",
      "1. Sunlight - The sun's rays hitting the Earth's surface create the color of blue light (the visible spectrum).\n",
      "\n",
      "2. Color in Nature - The sky is typically more blue than other colors because it reflects more blue light than red or green. This effect is known as \"blue-green albedo.\"\n",
      "\n",
      "3. Aircraft and Ships - Aircraft and ships flying overhead produce blue light from their engines, which can give the sky a blue appearance.\n",
      "\n",
      "4. Geological Factors - The Earth's crust (the layer of rocky material beneath the surface) may absorb some sunlight, causing it to look darker in certain areas. However, this effect is generally small and difficult to measure accurately from space.\n",
      "\n",
      "5. Chemical Reactions - Atmospheric gases like oxygen and nitrogen can absorb some blue light, resulting in a color appearance that mimics the sky's appearance during sunset or dawn. However, this effect is not as pronounced as the one caused by airplanes or ships.\n",
      "\n",
      "Overall, the reason why the sky appears blue varies depending on various factors and can't be explained by a single mechanism."
     ]
    }
   ],
   "source": [
    "user_message =   {\n",
    "    'role': 'user',\n",
    "    'content': 'Why is the sky blue?',\n",
    "}\n",
    "response = chat(model='tinyllama', messages=[user_message], stream=True)\n",
    "for chunk in response:\n",
    "    print(chunk.message.content, end='', flush=True)"
   ]
  }
 ],
 "metadata": {
  "kernelspec": {
   "display_name": "Python 3 (ipykernel)",
   "language": "python",
   "name": "python3"
  },
  "language_info": {
   "codemirror_mode": {
    "name": "ipython",
    "version": 3
   },
   "file_extension": ".py",
   "mimetype": "text/x-python",
   "name": "python",
   "nbconvert_exporter": "python",
   "pygments_lexer": "ipython3",
   "version": "3.13.1"
  }
 },
 "nbformat": 4,
 "nbformat_minor": 5
}
